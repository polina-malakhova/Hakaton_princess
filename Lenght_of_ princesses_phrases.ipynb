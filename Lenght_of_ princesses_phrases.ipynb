{
 "cells": [
  {
   "cell_type": "markdown",
   "metadata": {},
   "source": [
    "В этом коде мы ищем самых болтливых прицесс -- считаем среднюю длину реплик принцесс."
   ]
  },
  {
   "cell_type": "code",
   "execution_count": null,
   "metadata": {},
   "outputs": [],
   "source": [
    "from statistics import mean\n",
    "from pathlib import Path\n",
    "\n",
    "import os\n",
    "os.chdir(\"/Texts\")\n",
    "p = Path('.')\n",
    "spisok = list(p.glob('**/*.txt')) # мы ходим по "
   ]
  },
  {
   "cell_type": "code",
   "execution_count": null,
   "metadata": {},
   "outputs": [],
   "source": [
    "films = []\n",
    "for file in spisok:\n",
    "    film = {}\n",
    "    with open (file, \"r\") as f:\n",
    "        film_name = str(file). strip (\".txt\")\n",
    "        phrases_hero_length_list = []\n",
    "        for phrase in f:\n",
    "            phrase_words = phrase.split()\n",
    "            phrase_lenght = len (phrase_words)\n",
    "            phrases_hero_length_list.append(phrase_lenght)\n",
    "    \n",
    "    phrases_length_list_avr = int(mean(phrases_hero_length_list))\n",
    "    film [film_name] = phrases_length_list_avr\n",
    "    films.append(film)\n",
    "    print (film)\n"
   ]
  },
  {
   "cell_type": "markdown",
   "metadata": {},
   "source": [
    "Мы получили словарь и увидели, что самые длинные реплики у прицессы из фильма SnowWhite -- 12 слов на реплику\n",
    "\n"
   ]
  }
 ],
 "metadata": {
  "interpreter": {
   "hash": "4d05e4bc094ea0f6c5b719462d3378668b4bf767268406c699b7b31250883d37"
  },
  "kernelspec": {
   "display_name": "Python 3.8.10 64-bit ('venv': venv)",
   "language": "python",
   "name": "python3"
  },
  "language_info": {
   "codemirror_mode": {
    "name": "ipython",
    "version": 3
   },
   "file_extension": ".py",
   "mimetype": "text/x-python",
   "name": "python",
   "nbconvert_exporter": "python",
   "pygments_lexer": "ipython3",
   "version": "3.8.10"
  },
  "orig_nbformat": 4
 },
 "nbformat": 4,
 "nbformat_minor": 2
}
